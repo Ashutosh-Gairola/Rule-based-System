{
  "cells": [
    {
      "cell_type": "markdown",
      "metadata": {
        "colab_type": "text",
        "id": "view-in-github"
      },
      "source": [
        "<a href=\"https://colab.research.google.com/github/Ashutosh-Gairola/AAIES/blob/main/Assignment1_Rule_Based_System.ipynb\" target=\"_parent\"><img src=\"https://colab.research.google.com/assets/colab-badge.svg\" alt=\"Open In Colab\"/></a>"
      ]
    },
    {
      "cell_type": "markdown",
      "metadata": {
        "id": "5r2msEl9py3R"
      },
      "source": [
        "<b>The Problem Statement</b>:\n",
        "\n",
        "You are tasked with creating a simple rule-based pet care assistant in Python. The goal is to develop a basic program that provides helpful reminders and suggestions for taking care of different types of pets, such as dogs, cats, and birds, based on predefined rules.\n",
        "\n",
        "<b>Some Rules to get you started</b>:\n",
        "\n",
        "*Example of a rule for dogs:* If the dog is a puppy (i.e. less than 2 years old) frequent training may be needed.\n",
        "\n",
        "*Example of a rule for cats:* If the cat's health is poor one may needed onitor their cat closely and consult a vet for any health issues."
      ]
    },
    {
      "cell_type": "markdown",
      "metadata": {
        "id": "hi0nFuvoppT9"
      },
      "source": [
        "## The Code"
      ]
    },
    {
      "cell_type": "markdown",
      "metadata": {
        "id": "WZrvsX8_ri3a"
      },
      "source": [
        "### Function to get the user's pet choice"
      ]
    },
    {
      "cell_type": "code",
      "execution_count": 20,
      "metadata": {
        "id": "eZOS63c-rij3"
      },
      "outputs": [],
      "source": [
        "# Function to get the user's pet choice\n",
        "def get_pet_choice():\n",
        "  print(\"Choose your pet from below option\")\n",
        "  lst_petchoice=[\"dog\",\"cat\",\"bird\"]\n",
        "  for i in range(0,len(lst_petchoice)):\n",
        "\n",
        "    print(i+1,lst_petchoice[i])\n",
        "  userinput=int(input(\"enter your pet number=\"))\n",
        "  selected=lst_petchoice[userinput-1]\n",
        "  #print(\"you have choosen \",selected)\n",
        "  return selected"
      ]
    },
    {
      "cell_type": "markdown",
      "metadata": {
        "id": "ih-mnNqnvI6N"
      },
      "source": [
        "### Function to get pet's age and health as input from user"
      ]
    },
    {
      "cell_type": "code",
      "execution_count": 21,
      "metadata": {
        "id": "bOmAKcsmvGkM"
      },
      "outputs": [],
      "source": [
        "# Function to get the pet's age from the user\n",
        "def get_pet_age():\n",
        "  print(\"Enter the age of your pet\")\n",
        "  #petname=get_pet_choice()\n",
        "  petage=int(input(\"enter pet age=\"))\n",
        "  #print(\"age is \",petage,\" of  \",petname)\n",
        "  return petage\n",
        "\n",
        "\n"
      ]
    },
    {
      "cell_type": "code",
      "execution_count": 22,
      "metadata": {
        "id": "31-njL3fvIEn"
      },
      "outputs": [],
      "source": [
        "# Function to get the pet's health status from the user\n",
        "def get_pet_health():\n",
        "\n",
        "    print(\"Enter your pet Health status from below\")\n",
        "    lst=[\"poor\",\"fair\",\"good\"]\n",
        "    for i in range(0,len(lst)):\n",
        "      print(i+1,lst[i])\n",
        "    userinput=int(input(\"enter your pet health satus number=\"))\n",
        "    healthstatus=lst[userinput-1]\n",
        "  #print(\"you have choosen \",selected)\n",
        "    return healthstatus"
      ]
    },
    {
      "cell_type": "markdown",
      "metadata": {
        "id": "10mIZiAxrIWD"
      },
      "source": [
        "### Function for rules for providing pet care tips"
      ]
    },
    {
      "cell_type": "code",
      "execution_count": 23,
      "metadata": {
        "id": "EIpHv9ckpYzh"
      },
      "outputs": [],
      "source": [
        "# Function to provide pet care tips based on the user's choice, age, and health\n",
        "\n",
        "def provide_pet_care_tips(pet_choice, pet_age, pet_health):\n",
        "  if(pet_choice=='dog'):\n",
        "    if(pet_health=='good'):\n",
        "      if(pet_age<2):\n",
        "        print('Good but small so frequent training required')\n",
        "      if(pet_age>=2 and pet_age<=10):\n",
        "        print('Maintain this health')\n",
        "      if(pet_age>10):\n",
        "        print('Invalid')\n",
        "    if(pet_health=='fair'):\n",
        "      if(pet_age<2):\n",
        "        print('You need a dog trainer')\n",
        "      if(pet_age>=2 and pet_age<=10):\n",
        "        print('Get the health check ups every month')\n",
        "      if(pet_age>10):\n",
        "        print('Invalid')\n",
        "    if(pet_health=='poor'):\n",
        "      if(pet_age<2):\n",
        "        print('Dog needs special training and treatment')\n",
        "      if(pet_age>=2 and pet_age<=10):\n",
        "        print('Give health check ups every week')\n",
        "      if(pet_age>10):\n",
        "        print('Invalid')\n",
        "  if(pet_choice=='cat'):\n",
        "    if(pet_health=='good'):\n",
        "      if(pet_age<5):\n",
        "        print('Cat good but small so frequent training required')\n",
        "      if(pet_age>=5 and pet_age<=15):\n",
        "        print('Maintain this health')\n",
        "      if(pet_age>15):\n",
        "        print('Invalid')\n",
        "    if(pet_health=='fair'):\n",
        "      if(pet_age<5):\n",
        "        print('Hire a cat trainer')\n",
        "      if(pet_age>=5 and pet_age<=15):\n",
        "        print('Get the health check ups every month')\n",
        "      if(pet_age>15):\n",
        "        print('Invalid')\n",
        "    if(pet_health=='poor'):\n",
        "      if(pet_age<5):\n",
        "        print('Cat needs special training and treatment')\n",
        "      if(pet_age>=5 and pet_age<=15):\n",
        "        print('Health check ups every week')\n",
        "      if(pet_age>15):\n",
        "        print('Invalid')\n",
        "  if(pet_choice=='bird'):\n",
        "    if(pet_health=='good'):\n",
        "      if(pet_age<2):\n",
        "        print('Bird good but small so needs time')\n",
        "      if(pet_age>=2 and pet_age<=5):\n",
        "        print('Maintain this health')\n",
        "      if(pet_age>5):\n",
        "        print('Invalid')\n",
        "    if(pet_health=='fair'):\n",
        "      if(pet_age<2):\n",
        "        print('Give training to bird')\n",
        "      if(pet_age>=2 and pet_age<=5):\n",
        "        print('Health check ups every month')\n",
        "      if(pet_age>5):\n",
        "        print('Invalid')\n",
        "    if(pet_health=='poor'):\n",
        "      if(pet_age<2):\n",
        "        print('Give special training and treatment')\n",
        "      if(pet_age>=2 and pet_age<=5):\n",
        "        print('Health check ups every week')\n",
        "      if(pet_age>5):\n",
        "        print('Invalid')\n",
        "\n"
      ]
    },
    {
      "cell_type": "markdown",
      "metadata": {
        "id": "GIJtbG2UrtJM"
      },
      "source": [
        "### Main function to run the pet care assistant"
      ]
    },
    {
      "cell_type": "code",
      "execution_count": 24,
      "metadata": {
        "id": "Sfqbwb0du179"
      },
      "outputs": [],
      "source": [
        "# Main function to run the pet care assistant\n",
        "def pet_care_assistant():\n",
        "\n",
        "    print(\"welcome to Pet care Assistant\")\n",
        "\n",
        "    a=get_pet_choice()\n",
        "    b=get_pet_age()\n",
        "    c=get_pet_health()\n",
        "    provide_pet_care_tips(a,b,c)"
      ]
    },
    {
      "cell_type": "code",
      "execution_count": 25,
      "metadata": {
        "colab": {
          "base_uri": "https://localhost:8080/"
        },
        "id": "Bm-vnwCvrxy4",
        "outputId": "16eb30a2-5208-4525-944a-ec2ec57e0ce2"
      },
      "outputs": [
        {
          "name": "stdout",
          "output_type": "stream",
          "text": [
            "welcome to Pet care Assistant\n",
            "Choose your pet from below option\n",
            "1 dog\n",
            "2 cat\n",
            "3 bird\n",
            "enter your pet number=1\n",
            "Enter the age of your pet\n",
            "enter pet age=5\n",
            "Enter your pet Health status from below\n",
            "1 poor\n",
            "2 fair\n",
            "3 good\n",
            "enter your pet health satus number=1\n",
            "Give health check ups every week\n"
          ]
        }
      ],
      "source": [
        "# Run the program\n",
        "if __name__ == \"__main__\":\n",
        "    pet_care_assistant()  # Start the pet care assistant"
      ]
    }
  ],
  "metadata": {
    "colab": {
      "include_colab_link": true,
      "provenance": []
    },
    "kernelspec": {
      "display_name": "Python 3",
      "name": "python3"
    },
    "language_info": {
      "name": "python"
    }
  },
  "nbformat": 4,
  "nbformat_minor": 0
}
